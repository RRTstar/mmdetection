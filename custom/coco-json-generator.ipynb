{
 "cells": [
  {
   "cell_type": "code",
   "execution_count": 1,
   "metadata": {},
   "outputs": [],
   "source": [
    "from ast import literal_eval\n",
    "import pandas as pd \n",
    "from tqdm.notebook import tqdm"
   ]
  },
  {
   "cell_type": "code",
   "execution_count": 3,
   "metadata": {},
   "outputs": [],
   "source": [
    "# train path depends on users \n",
    "ROOT_PATH = '/home/joon9502/kaggle/input/tensorflow-great-barrier-reef'\n",
    "TRAIN_PATH = f'{ROOT_PATH}/train_images'\n",
    "background_prop = 0.05"
   ]
  },
  {
   "cell_type": "code",
   "execution_count": 6,
   "metadata": {},
   "outputs": [],
   "source": [
    "# read train.csv as a dataframe\n",
    "\n",
    "df = pd.read_csv(f'{ROOT_PATH}/train.csv')\n",
    "n_with_annotations = (df['annotations'] != '[]').sum()\n",
    "\n",
    "df = pd.concat([\n",
    "  df[df['annotations'] != '[]'],\n",
    "  df[df['annotations'] == '[]'].sample(int(n_with_annotations*background_prop))\n",
    "]).sample(frac=1).reset_index(drop=True)"
   ]
  },
  {
   "cell_type": "code",
   "execution_count": null,
   "metadata": {},
   "outputs": [],
   "source": [
    "# make columns \n",
    "\n",
    "\n"
   ]
  }
 ],
 "metadata": {
  "interpreter": {
   "hash": "92aa96d2ee0cefb63a0fde1571da3aa804a13e6941d725e071edcfea02a7ba2a"
  },
  "kernelspec": {
   "display_name": "Python 3.7.11 64-bit ('openmmlab': conda)",
   "language": "python",
   "name": "python3"
  },
  "language_info": {
   "codemirror_mode": {
    "name": "ipython",
    "version": 3
   },
   "file_extension": ".py",
   "mimetype": "text/x-python",
   "name": "python",
   "nbconvert_exporter": "python",
   "pygments_lexer": "ipython3",
   "version": "3.7.11"
  },
  "orig_nbformat": 4
 },
 "nbformat": 4,
 "nbformat_minor": 2
}
